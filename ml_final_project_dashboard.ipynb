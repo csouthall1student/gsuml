{
 "cells": [
  {
   "cell_type": "markdown",
   "id": "d851a627-bad6-45af-8443-384d4114b350",
   "metadata": {},
   "source": [
    "## 0. Setting up Environment"
   ]
  },
  {
   "cell_type": "markdown",
   "id": "985e7aa9-dcc1-477d-9e33-668a33ed9462",
   "metadata": {},
   "source": [
    "### 0.1 Libraries"
   ]
  },
  {
   "cell_type": "code",
   "execution_count": 288,
   "id": "fa2c4cdc-16ed-4399-b50a-02420c515c0f",
   "metadata": {},
   "outputs": [],
   "source": [
    "import pandas as pd\n",
    "import numpy as np\n",
    "import re"
   ]
  },
  {
   "cell_type": "markdown",
   "id": "44f533df-91b6-4b92-a00d-9d9b51d978cb",
   "metadata": {},
   "source": [
    "### 0.2 Functions"
   ]
  },
  {
   "cell_type": "code",
   "execution_count": 290,
   "id": "db429d83-085e-4d1e-bade-2b0190244c2c",
   "metadata": {},
   "outputs": [],
   "source": [
    "\n",
    "# Standardizes strings for columns names\n",
    "def scrub_colnames(string):\n",
    "    return re.sub(r'[($)]', '', string.lower().replace(' ', '_')).rstrip(\"_\")"
   ]
  },
  {
   "cell_type": "markdown",
   "id": "6299eb2a-b854-4aed-9481-cd57a33b361f",
   "metadata": {},
   "source": [
    "## 1. Reading in Data"
   ]
  },
  {
   "cell_type": "markdown",
   "id": "905926f9-5f71-40e6-8f66-5fd54e5d29ae",
   "metadata": {},
   "source": [
    "### 1.1 Reading Raw Data"
   ]
  },
  {
   "cell_type": "code",
   "execution_count": 293,
   "id": "704af5ae-dda8-4558-8290-70fa6ed7b890",
   "metadata": {},
   "outputs": [],
   "source": [
    "dat_raw = pd.read_csv('Medicalpremium.csv')"
   ]
  },
  {
   "cell_type": "markdown",
   "id": "7b81b137-3770-4798-82d6-878b4144301a",
   "metadata": {},
   "source": [
    "### 1.2 Standardize Column Names"
   ]
  },
  {
   "cell_type": "code",
   "execution_count": 295,
   "id": "35847eb3-233f-4764-854d-f0f643e7590f",
   "metadata": {},
   "outputs": [],
   "source": [
    "outcols = ['BloodPressureProblems',\n",
    "           'AnyTransplants',\n",
    "           'AnyChronicDiseases',\n",
    "           'KnownAllergies',\n",
    "           'HistoryOfCancerInFamily',\n",
    "           'NumberOfMajorSurgeries',\n",
    "           'PremiumPrice']\n",
    "\n",
    "incols = ['Blood_Pressure_Problems',\n",
    "          'Any_Transplants',\n",
    "          'Any_Chronic_Diseases',\n",
    "          'Known_Allergies',\n",
    "          'History_Of_Cancer_In_Family',\n",
    "          'Number_Of_Major_Surgeries',\n",
    "          'Premium_Price']\n",
    "\n",
    "# Replace all columns labels of outcols with incols\n",
    "dat = dat_raw\n",
    "for incol, outcol in zip(incols, outcols):\n",
    "    dat[incol] = dat[outcol]\n",
    "    dat = dat.drop(outcol, axis=1)\n",
    "    \n",
    "dat.columns = dat.columns.map(scrub_colnames)"
   ]
  },
  {
   "cell_type": "markdown",
   "id": "25803e6d-6e25-4d3f-8dc3-601cf30f0b82",
   "metadata": {},
   "source": [
    "## 3. Predictive Modelling"
   ]
  },
  {
   "cell_type": "markdown",
   "id": "f08c541c-a1ec-449c-8086-f4156b21241c",
   "metadata": {},
   "source": [
    "### 3.1 AutoML using Lazy Predict (No Hyper parameter tuning, No Feature Selection, No Cross Validation)"
   ]
  },
  {
   "cell_type": "code",
   "execution_count": 298,
   "id": "b1e0aa54-2145-497e-824e-18cc9bcdc8b2",
   "metadata": {},
   "outputs": [],
   "source": [
    "models = pd.read_csv('data/lpmodels.csv')"
   ]
  },
  {
   "cell_type": "markdown",
   "id": "cbb640dc-5deb-44ce-b881-9ee4633df99f",
   "metadata": {},
   "source": [
    "### 3.3 Top Models as per AutoML"
   ]
  },
  {
   "cell_type": "code",
   "execution_count": 300,
   "id": "a43d6f6f-eab4-41a0-91b0-b5a8c3bdd809",
   "metadata": {},
   "outputs": [
    {
     "name": "stdout",
     "output_type": "stream",
     "text": [
      "\n",
      "Model Performance Summary:\n",
      " Unnamed: 0                Model                                                Best Params    RMSE   R²  Adjusted R²  CV RMSE  CV R²  CV Adjusted R²\n",
      "          0     GradientBoosting {'model__learning_rate': 0.05, 'model__n_estimators': 100} 2832.32 0.81         0.80  3427.15   0.69            0.68\n",
      "          1                 LGBM {'model__learning_rate': 0.05, 'model__n_estimators': 100} 2784.71 0.82         0.81  3555.40   0.66            0.66\n",
      "          2             CatBoost          {'model__depth': 4, 'model__learning_rate': 0.05} 2891.82 0.80         0.79  3714.07   0.63            0.63\n",
      "          3 HistGradientBoosting     {'model__learning_rate': 0.05, 'model__max_iter': 100} 2784.72 0.82         0.81  3556.03   0.66            0.66\n",
      "          4         RandomForest       {'model__max_depth': 10, 'model__n_estimators': 100} 3003.53 0.79         0.78  3804.69   0.61            0.61\n"
     ]
    }
   ],
   "source": [
    "\n",
    "results_df = pd.read_csv('data/results_df.csv')\n",
    "# Display the table\n",
    "print(\"\\nModel Performance Summary:\")\n",
    "print(results_df.to_string(index=False))"
   ]
  },
  {
   "cell_type": "markdown",
   "id": "7f1e4e72-3fd0-487b-826f-dd168647dc74",
   "metadata": {},
   "source": [
    "### 3.5 Best Model"
   ]
  },
  {
   "cell_type": "markdown",
   "id": "629461a9-8fec-45bc-a257-b226babbaf8e",
   "metadata": {},
   "source": [
    "asets.\r\n"
   ]
  },
  {
   "cell_type": "markdown",
   "id": "4c708838-cc1c-4be0-bece-d8a124f008e5",
   "metadata": {},
   "source": [
    "### SHAP Analysis Commentary – Insurance Premium Prediction - HistGradientBoosting\n",
    "\n",
    "This SHAP summary plot explains the impact of each feature on insurance premium predictions:\n",
    "\n",
    "#### 1. `age`\n",
    "- Higher `age` values (pink dots on far right side of vertical 0 line) significantly increase predicted premiums.\n",
    "- Lower `age` values (blue dots on the far left side of vertical 0 line) decrease premiums.\n",
    "- Clear positive correlation: **older individuals → higher insurance costs**.\n",
    "\n",
    "#### 2. `any_transplants`\n",
    "- Having undergone a transplant leads to a strong increase in predicted premiums (pink dots on far right).\n",
    "- Those without (blue values - low feature value were not on extremes) have minimal or even negative influence on premiums.\n",
    "\n",
    "#### 3. `any_chronic_diseases`\n",
    "- Individuals with chronic conditions (pink dots on right side of vertical 0 line) show increase in premiums.\n",
    "- Those without (blue values - low feature value were not on extremes) have minimal or even negative influence on premiums.\n",
    "\n",
    "#### 4. `number_of_major_surgeries`\n",
    "- More major surgeries tend to increase premiums slightly, but the effect is less consistent since low (blue) and high values (pink) overlap around 0\n",
    "\n",
    "#### 5. `blood_pressure_problems`\n",
    "- Least influential among the top 5 features.\n",
    "- High blood pressure (small pink - High Value dots on little right of vertical 0 lines) contributes marginally to higher premiums. The blue and pink dots overlapping around 0 indicate little to no effect on prediction \n",
    "\n"
   ]
  },
  {
   "cell_type": "markdown",
   "id": "dd6e96ce-9ece-489c-b563-9de280f2846f",
   "metadata": {},
   "source": [
    "### 3.8 Scatter Plot of actual Vs predicted premium"
   ]
  },
  {
   "cell_type": "markdown",
   "id": "287adfee-1535-431a-b2ed-5cf8dc1cd2de",
   "metadata": {},
   "source": [
    "## 4. Dashboard"
   ]
  },
  {
   "cell_type": "markdown",
   "id": "50cd607b-68b8-498f-a74d-7eba3f448861",
   "metadata": {},
   "source": [
    "### 4.1"
   ]
  },
  {
   "cell_type": "code",
   "execution_count": 307,
   "id": "19bfb75a-916d-4d59-b056-0aea376eaa43",
   "metadata": {},
   "outputs": [],
   "source": [
    "import streamlit as st\n",
    "import altair as alt\n",
    "import plotly.express as px\n",
    "\n",
    "#best_model.get_params()\n",
    "tmodels = models.T\n",
    "#models"
   ]
  },
  {
   "cell_type": "code",
   "execution_count": 308,
   "id": "b9543b80-5a92-49de-a74d-a04e862066b5",
   "metadata": {},
   "outputs": [
    {
     "name": "stderr",
     "output_type": "stream",
     "text": [
      "2025-04-26 13:54:19.625 Thread 'MainThread': missing ScriptRunContext! This warning can be ignored when running in bare mode.\n",
      "2025-04-26 13:54:19.625 Thread 'MainThread': missing ScriptRunContext! This warning can be ignored when running in bare mode.\n",
      "2025-04-26 13:54:19.626 Thread 'MainThread': missing ScriptRunContext! This warning can be ignored when running in bare mode.\n",
      "2025-04-26 13:54:19.626 Thread 'MainThread': missing ScriptRunContext! This warning can be ignored when running in bare mode.\n",
      "2025-04-26 13:54:19.626 Thread 'MainThread': missing ScriptRunContext! This warning can be ignored when running in bare mode.\n",
      "2025-04-26 13:54:19.627 Thread 'MainThread': missing ScriptRunContext! This warning can be ignored when running in bare mode.\n",
      "2025-04-26 13:54:19.627 Thread 'MainThread': missing ScriptRunContext! This warning can be ignored when running in bare mode.\n",
      "2025-04-26 13:54:19.628 Thread 'MainThread': missing ScriptRunContext! This warning can be ignored when running in bare mode.\n",
      "2025-04-26 13:54:19.628 Thread 'MainThread': missing ScriptRunContext! This warning can be ignored when running in bare mode.\n",
      "2025-04-26 13:54:19.630 Thread 'MainThread': missing ScriptRunContext! This warning can be ignored when running in bare mode.\n",
      "2025-04-26 13:54:19.630 Thread 'MainThread': missing ScriptRunContext! This warning can be ignored when running in bare mode.\n",
      "2025-04-26 13:54:19.630 Thread 'MainThread': missing ScriptRunContext! This warning can be ignored when running in bare mode.\n",
      "2025-04-26 13:54:19.630 Thread 'MainThread': missing ScriptRunContext! This warning can be ignored when running in bare mode.\n",
      "2025-04-26 13:54:19.631 Thread 'MainThread': missing ScriptRunContext! This warning can be ignored when running in bare mode.\n",
      "2025-04-26 13:54:19.631 Thread 'MainThread': missing ScriptRunContext! This warning can be ignored when running in bare mode.\n",
      "2025-04-26 13:54:19.631 Thread 'MainThread': missing ScriptRunContext! This warning can be ignored when running in bare mode.\n",
      "2025-04-26 13:54:19.632 Thread 'MainThread': missing ScriptRunContext! This warning can be ignored when running in bare mode.\n",
      "2025-04-26 13:54:19.632 Thread 'MainThread': missing ScriptRunContext! This warning can be ignored when running in bare mode.\n",
      "2025-04-26 13:54:19.632 Thread 'MainThread': missing ScriptRunContext! This warning can be ignored when running in bare mode.\n",
      "2025-04-26 13:54:19.633 Thread 'MainThread': missing ScriptRunContext! This warning can be ignored when running in bare mode.\n",
      "2025-04-26 13:54:19.633 Thread 'MainThread': missing ScriptRunContext! This warning can be ignored when running in bare mode.\n",
      "2025-04-26 13:54:19.633 Thread 'MainThread': missing ScriptRunContext! This warning can be ignored when running in bare mode.\n",
      "2025-04-26 13:54:19.633 Thread 'MainThread': missing ScriptRunContext! This warning can be ignored when running in bare mode.\n",
      "2025-04-26 13:54:19.635 Thread 'MainThread': missing ScriptRunContext! This warning can be ignored when running in bare mode.\n",
      "2025-04-26 13:54:19.635 Thread 'MainThread': missing ScriptRunContext! This warning can be ignored when running in bare mode.\n",
      "2025-04-26 13:54:19.635 Thread 'MainThread': missing ScriptRunContext! This warning can be ignored when running in bare mode.\n",
      "2025-04-26 13:54:19.636 Thread 'MainThread': missing ScriptRunContext! This warning can be ignored when running in bare mode.\n",
      "2025-04-26 13:54:19.636 Thread 'MainThread': missing ScriptRunContext! This warning can be ignored when running in bare mode.\n",
      "2025-04-26 13:54:19.637 Thread 'MainThread': missing ScriptRunContext! This warning can be ignored when running in bare mode.\n",
      "2025-04-26 13:54:19.637 Thread 'MainThread': missing ScriptRunContext! This warning can be ignored when running in bare mode.\n"
     ]
    }
   ],
   "source": [
    "def make_heatmap(input_df, input_y, input_x, input_color, input_color_theme):\n",
    "    heatmap = alt.Chart(input_df).mark_rect().encode(\n",
    "        y=alt.Y(f'{input_y}:O', axis=alt.Axis(title=\"\", titleFontSize=18, titlePadding=15, titleFontWeight=900, labelAngle=0)),\n",
    "        x=alt.X(f'{input_x}:O', axis=alt.Axis(title=\"\", titleFontSize=18, titlePadding=15, titleFontWeight=900)),\n",
    "        color=alt.Color(f'max({input_color}):Q',\n",
    "                        legend=None,\n",
    "                        scale=alt.Scale(scheme=input_color_theme)),\n",
    "        stroke=alt.value('black'),\n",
    "        strokeWidth=alt.value(0.25),\n",
    "        ).properties(width=900\n",
    "                     ).configure_axis(\n",
    "        labelFontSize=12,\n",
    "        titleFontSize=12\n",
    "        ) \n",
    "    # height=300\n",
    "    return heatmap\n",
    "\n",
    "st.set_page_config(\n",
    "    page_title=\"US Population Dashboard\",\n",
    "    page_icon=\"🏂\",\n",
    "    layout=\"wide\",\n",
    "    initial_sidebar_state=\"expanded\")\n",
    "\n",
    "alt.themes.enable(\"dark\")\n",
    "\n",
    "with st.sidebar:\n",
    "    st.title('🏂 US Population Dashboard')\n",
    "    \n",
    "    model_list = list(models.RMSE.unique())[::-1]\n",
    "    \n",
    "    selected_model = st.selectbox('Select a model', model_list, index=len(model_list)-1)\n",
    "    df_selected_model = models[models.RMSE == selected_model]\n",
    "    df_selected_model_sorted = df_selected_model.sort_values(by=\"Time Taken\", ascending=False)\n",
    "\n",
    "    color_theme_list = ['blues', 'cividis', 'greens', 'inferno', 'magma', 'plasma', 'reds', 'rainbow', 'turbo', 'viridis']\n",
    "    selected_color_theme = st.selectbox('Select a color theme', color_theme_list)\n",
    "\n",
    "col = st.columns((5), gap='medium')\n",
    "\n",
    "with col[0]:\n",
    "    st.markdown('#### Top States')\n",
    "\n",
    "    st.dataframe(df_selected_model_sorted,\n",
    "                 column_order=(\"RMSE\", \"Time Taken\"),\n",
    "                 hide_index=True,\n",
    "                 width=None,\n",
    "                 column_config={\n",
    "                    \"RMSE\": st.column_config.TextColumn(\n",
    "                        \"RMSE\",\n",
    "                    ),\n",
    "                    \"Time Taken\": st.column_config.ProgressColumn(\n",
    "                        \"Time Taken\",\n",
    "                        format=\"%f\",\n",
    "                        min_value=0,\n",
    "                        max_value=max(df_selected_model_sorted.xs('Time Taken', axis=1)),\n",
    "                     )}\n",
    "                 )\n",
    "    \n",
    "    with st.expander('About', expanded=True):\n",
    "        st.write('''\n",
    "            - Data: [U.S. Census Bureau](<https://www.census.gov/data/datasets/time-series/demo/popest/2010s-state-total.html>).\n",
    "            - :orange[**Gains/Losses**]: states with high inbound/ outbound migration for selected year\n",
    "            - :orange[**States Migration**]: percentage of states with annual inbound/ outbound migration > 50,000\n",
    "            ''')"
   ]
  },
  {
   "cell_type": "code",
   "execution_count": null,
   "id": "523887bc-ab50-4c5f-8b5d-185440da1450",
   "metadata": {},
   "outputs": [],
   "source": []
  }
 ],
 "metadata": {
  "kernelspec": {
   "display_name": "Python [conda env:base] *",
   "language": "python",
   "name": "conda-base-py"
  },
  "language_info": {
   "codemirror_mode": {
    "name": "ipython",
    "version": 3
   },
   "file_extension": ".py",
   "mimetype": "text/x-python",
   "name": "python",
   "nbconvert_exporter": "python",
   "pygments_lexer": "ipython3",
   "version": "3.12.3"
  }
 },
 "nbformat": 4,
 "nbformat_minor": 5
}
